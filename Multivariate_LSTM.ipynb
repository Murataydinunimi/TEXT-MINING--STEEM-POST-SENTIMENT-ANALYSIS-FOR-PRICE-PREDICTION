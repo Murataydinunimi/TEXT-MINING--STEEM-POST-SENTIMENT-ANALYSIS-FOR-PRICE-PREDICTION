{
 "cells": [
  {
   "cell_type": "code",
   "execution_count": 1,
   "metadata": {},
   "outputs": [
    {
     "name": "stderr",
     "output_type": "stream",
     "text": [
      "2022-05-01 21:35:39.565177: W tensorflow/stream_executor/platform/default/dso_loader.cc:64] Could not load dynamic library 'libcudart.so.11.0'; dlerror: libcudart.so.11.0: cannot open shared object file: No such file or directory\n",
      "2022-05-01 21:35:39.565222: I tensorflow/stream_executor/cuda/cudart_stub.cc:29] Ignore above cudart dlerror if you do not have a GPU set up on your machine.\n",
      "[nltk_data] Error loading stopwords: <urlopen error [Errno 104]\n",
      "[nltk_data]     Connection reset by peer>\n"
     ]
    }
   ],
   "source": [
    "from Pre_Processing import *\n",
    "import pandas as pd\n",
    "import statsmodels.api as sm\n",
    "import warnings\n",
    "import os \n",
    "import math\n",
    "from sklearn.preprocessing import MinMaxScaler\n",
    "from keras.layers import *\n",
    "from keras.models import *\n",
    "from sklearn.metrics import mean_squared_error\n",
    "\n",
    "warnings.filterwarnings('ignore')"
   ]
  },
  {
   "cell_type": "code",
   "execution_count": 863,
   "metadata": {},
   "outputs": [],
   "source": [
    "##MONTHLY ANALYSIS\n",
    "\n",
    "month = \"december\"\n",
    "year=2017\n",
    "final_df = prepare_data_LSTM(month=month,year=year)\n",
    "final_df"
   ]
  },
  {
   "cell_type": "code",
   "execution_count": 865,
   "metadata": {
    "scrolled": false
   },
   "outputs": [
    {
     "data": {
      "text/plain": [
       "Text(0.5, 1.0, 'Daily Close Price History')"
      ]
     },
     "execution_count": 865,
     "metadata": {},
     "output_type": "execute_result"
    },
    {
     "data": {
      "image/png": "[encoded data removed]",
      "text/plain": [
       "<Figure size 720x360 with 1 Axes>"
      ]
     },
     "metadata": {
      "needs_background": "light"
     },
     "output_type": "display_data"
    }
   ],
   "source": [
    "final_df.plot( y=\"close\",figsize=(10, 5), grid=True)\n",
    "plt.xlabel(\"timestamp\")\n",
    "plt.ylabel(\"Daiy Close Price\")\n",
    "plt.title(\"Daily Close Price History\")\n"
   ]
  },
  {
   "cell_type": "code",
   "execution_count": 866,
   "metadata": {},
   "outputs": [
    {
     "data": {
      "text/plain": [
       "Index(['8_upvote_post_steemit_comment', '9_steemit_love_friend_year',\n",
       "       '12_bitcoin_full_story_source_br', '13_market_money_company_report',\n",
       "       'close'],\n",
       "      dtype='object')"
      ]
     },
     "execution_count": 866,
     "metadata": {},
     "output_type": "execute_result"
    }
   ],
   "source": [
    "final_df.columns"
   ]
  },
  {
   "cell_type": "code",
   "execution_count": 867,
   "metadata": {},
   "outputs": [
    {
     "data": {
      "text/html": [
       "<div>\n",
       "<style scoped>\n",
       "    .dataframe tbody tr th:only-of-type {\n",
       "        vertical-align: middle;\n",
       "    }\n",
       "\n",
       "    .dataframe tbody tr th {\n",
       "        vertical-align: top;\n",
       "    }\n",
       "\n",
       "    .dataframe thead th {\n",
       "        text-align: right;\n",
       "    }\n",
       "</style>\n",
       "<table border=\"1\" class=\"dataframe\">\n",
       "  <thead>\n",
       "    <tr style=\"text-align: right;\">\n",
       "      <th></th>\n",
       "      <th>12_bitcoin_full_story_source_br</th>\n",
       "      <th>13_market_money_company_report</th>\n",
       "      <th>close</th>\n",
       "    </tr>\n",
       "    <tr>\n",
       "      <th>timestamp</th>\n",
       "      <th></th>\n",
       "      <th></th>\n",
       "      <th></th>\n",
       "    </tr>\n",
       "  </thead>\n",
       "  <tbody>\n",
       "    <tr>\n",
       "      <th>2017-12-01</th>\n",
       "      <td>0.690516</td>\n",
       "      <td>0.550015</td>\n",
       "      <td>1.08</td>\n",
       "    </tr>\n",
       "    <tr>\n",
       "      <th>2017-12-02</th>\n",
       "      <td>0.759627</td>\n",
       "      <td>0.565658</td>\n",
       "      <td>1.20</td>\n",
       "    </tr>\n",
       "    <tr>\n",
       "      <th>2017-12-03</th>\n",
       "      <td>0.732898</td>\n",
       "      <td>0.558167</td>\n",
       "      <td>1.22</td>\n",
       "    </tr>\n",
       "    <tr>\n",
       "      <th>2017-12-04</th>\n",
       "      <td>0.701612</td>\n",
       "      <td>0.557061</td>\n",
       "      <td>1.43</td>\n",
       "    </tr>\n",
       "    <tr>\n",
       "      <th>2017-12-05</th>\n",
       "      <td>0.708850</td>\n",
       "      <td>0.559348</td>\n",
       "      <td>1.46</td>\n",
       "    </tr>\n",
       "    <tr>\n",
       "      <th>2017-12-06</th>\n",
       "      <td>0.683203</td>\n",
       "      <td>0.565437</td>\n",
       "      <td>1.28</td>\n",
       "    </tr>\n",
       "    <tr>\n",
       "      <th>2017-12-07</th>\n",
       "      <td>0.660821</td>\n",
       "      <td>0.568091</td>\n",
       "      <td>2.05</td>\n",
       "    </tr>\n",
       "    <tr>\n",
       "      <th>2017-12-08</th>\n",
       "      <td>0.659044</td>\n",
       "      <td>0.487638</td>\n",
       "      <td>1.94</td>\n",
       "    </tr>\n",
       "    <tr>\n",
       "      <th>2017-12-09</th>\n",
       "      <td>0.671777</td>\n",
       "      <td>0.561277</td>\n",
       "      <td>1.67</td>\n",
       "    </tr>\n",
       "    <tr>\n",
       "      <th>2017-12-10</th>\n",
       "      <td>0.711404</td>\n",
       "      <td>0.540068</td>\n",
       "      <td>1.67</td>\n",
       "    </tr>\n",
       "    <tr>\n",
       "      <th>2017-12-11</th>\n",
       "      <td>0.649816</td>\n",
       "      <td>0.585537</td>\n",
       "      <td>1.72</td>\n",
       "    </tr>\n",
       "    <tr>\n",
       "      <th>2017-12-12</th>\n",
       "      <td>0.601679</td>\n",
       "      <td>0.499772</td>\n",
       "      <td>1.85</td>\n",
       "    </tr>\n",
       "    <tr>\n",
       "      <th>2017-12-13</th>\n",
       "      <td>0.624054</td>\n",
       "      <td>0.531153</td>\n",
       "      <td>1.78</td>\n",
       "    </tr>\n",
       "    <tr>\n",
       "      <th>2017-12-14</th>\n",
       "      <td>0.674230</td>\n",
       "      <td>0.590533</td>\n",
       "      <td>2.04</td>\n",
       "    </tr>\n",
       "    <tr>\n",
       "      <th>2017-12-15</th>\n",
       "      <td>0.700245</td>\n",
       "      <td>0.560988</td>\n",
       "      <td>1.96</td>\n",
       "    </tr>\n",
       "    <tr>\n",
       "      <th>2017-12-16</th>\n",
       "      <td>0.679204</td>\n",
       "      <td>0.484108</td>\n",
       "      <td>2.12</td>\n",
       "    </tr>\n",
       "    <tr>\n",
       "      <th>2017-12-17</th>\n",
       "      <td>0.592970</td>\n",
       "      <td>0.536914</td>\n",
       "      <td>2.31</td>\n",
       "    </tr>\n",
       "    <tr>\n",
       "      <th>2017-12-18</th>\n",
       "      <td>0.527789</td>\n",
       "      <td>0.613628</td>\n",
       "      <td>2.90</td>\n",
       "    </tr>\n",
       "    <tr>\n",
       "      <th>2017-12-19</th>\n",
       "      <td>0.544371</td>\n",
       "      <td>0.563509</td>\n",
       "      <td>2.92</td>\n",
       "    </tr>\n",
       "    <tr>\n",
       "      <th>2017-12-20</th>\n",
       "      <td>0.526954</td>\n",
       "      <td>0.570390</td>\n",
       "      <td>3.42</td>\n",
       "    </tr>\n",
       "    <tr>\n",
       "      <th>2017-12-21</th>\n",
       "      <td>0.525899</td>\n",
       "      <td>0.592370</td>\n",
       "      <td>3.65</td>\n",
       "    </tr>\n",
       "    <tr>\n",
       "      <th>2017-12-22</th>\n",
       "      <td>0.529604</td>\n",
       "      <td>0.579832</td>\n",
       "      <td>2.94</td>\n",
       "    </tr>\n",
       "    <tr>\n",
       "      <th>2017-12-23</th>\n",
       "      <td>0.582294</td>\n",
       "      <td>0.559700</td>\n",
       "      <td>3.15</td>\n",
       "    </tr>\n",
       "    <tr>\n",
       "      <th>2017-12-24</th>\n",
       "      <td>0.544335</td>\n",
       "      <td>0.536153</td>\n",
       "      <td>3.40</td>\n",
       "    </tr>\n",
       "    <tr>\n",
       "      <th>2017-12-25</th>\n",
       "      <td>0.534430</td>\n",
       "      <td>0.586161</td>\n",
       "      <td>3.36</td>\n",
       "    </tr>\n",
       "    <tr>\n",
       "      <th>2017-12-26</th>\n",
       "      <td>0.567563</td>\n",
       "      <td>0.534997</td>\n",
       "      <td>3.43</td>\n",
       "    </tr>\n",
       "    <tr>\n",
       "      <th>2017-12-27</th>\n",
       "      <td>0.512480</td>\n",
       "      <td>0.584859</td>\n",
       "      <td>3.26</td>\n",
       "    </tr>\n",
       "    <tr>\n",
       "      <th>2017-12-28</th>\n",
       "      <td>0.576047</td>\n",
       "      <td>0.563642</td>\n",
       "      <td>2.89</td>\n",
       "    </tr>\n",
       "    <tr>\n",
       "      <th>2017-12-29</th>\n",
       "      <td>0.590628</td>\n",
       "      <td>0.611238</td>\n",
       "      <td>3.15</td>\n",
       "    </tr>\n",
       "    <tr>\n",
       "      <th>2017-12-30</th>\n",
       "      <td>0.545810</td>\n",
       "      <td>0.535586</td>\n",
       "      <td>2.73</td>\n",
       "    </tr>\n",
       "    <tr>\n",
       "      <th>2017-12-31</th>\n",
       "      <td>0.618973</td>\n",
       "      <td>0.526916</td>\n",
       "      <td>3.01</td>\n",
       "    </tr>\n",
       "  </tbody>\n",
       "</table>\n",
       "</div>"
      ],
      "text/plain": [
       "            12_bitcoin_full_story_source_br  13_market_money_company_report  \\\n",
       "timestamp                                                                     \n",
       "2017-12-01                         0.690516                        0.550015   \n",
       "2017-12-02                         0.759627                        0.565658   \n",
       "2017-12-03                         0.732898                        0.558167   \n",
       "2017-12-04                         0.701612                        0.557061   \n",
       "2017-12-05                         0.708850                        0.559348   \n",
       "2017-12-06                         0.683203                        0.565437   \n",
       "2017-12-07                         0.660821                        0.568091   \n",
       "2017-12-08                         0.659044                        0.487638   \n",
       "2017-12-09                         0.671777                        0.561277   \n",
       "2017-12-10                         0.711404                        0.540068   \n",
       "2017-12-11                         0.649816                        0.585537   \n",
       "2017-12-12                         0.601679                        0.499772   \n",
       "2017-12-13                         0.624054                        0.531153   \n",
       "2017-12-14                         0.674230                        0.590533   \n",
       "2017-12-15                         0.700245                        0.560988   \n",
       "2017-12-16                         0.679204                        0.484108   \n",
       "2017-12-17                         0.592970                        0.536914   \n",
       "2017-12-18                         0.527789                        0.613628   \n",
       "2017-12-19                         0.544371                        0.563509   \n",
       "2017-12-20                         0.526954                        0.570390   \n",
       "2017-12-21                         0.525899                        0.592370   \n",
       "2017-12-22                         0.529604                        0.579832   \n",
       "2017-12-23                         0.582294                        0.559700   \n",
       "2017-12-24                         0.544335                        0.536153   \n",
       "2017-12-25                         0.534430                        0.586161   \n",
       "2017-12-26                         0.567563                        0.534997   \n",
       "2017-12-27                         0.512480                        0.584859   \n",
       "2017-12-28                         0.576047                        0.563642   \n",
       "2017-12-29                         0.590628                        0.611238   \n",
       "2017-12-30                         0.545810                        0.535586   \n",
       "2017-12-31                         0.618973                        0.526916   \n",
       "\n",
       "            close  \n",
       "timestamp          \n",
       "2017-12-01   1.08  \n",
       "2017-12-02   1.20  \n",
       "2017-12-03   1.22  \n",
       "2017-12-04   1.43  \n",
       "2017-12-05   1.46  \n",
       "2017-12-06   1.28  \n",
       "2017-12-07   2.05  \n",
       "2017-12-08   1.94  \n",
       "2017-12-09   1.67  \n",
       "2017-12-10   1.67  \n",
       "2017-12-11   1.72  \n",
       "2017-12-12   1.85  \n",
       "2017-12-13   1.78  \n",
       "2017-12-14   2.04  \n",
       "2017-12-15   1.96  \n",
       "2017-12-16   2.12  \n",
       "2017-12-17   2.31  \n",
       "2017-12-18   2.90  \n",
       "2017-12-19   2.92  \n",
       "2017-12-20   3.42  \n",
       "2017-12-21   3.65  \n",
       "2017-12-22   2.94  \n",
       "2017-12-23   3.15  \n",
       "2017-12-24   3.40  \n",
       "2017-12-25   3.36  \n",
       "2017-12-26   3.43  \n",
       "2017-12-27   3.26  \n",
       "2017-12-28   2.89  \n",
       "2017-12-29   3.15  \n",
       "2017-12-30   2.73  \n",
       "2017-12-31   3.01  "
      ]
     },
     "execution_count": 867,
     "metadata": {},
     "output_type": "execute_result"
    }
   ],
   "source": [
    "final_df = pd.DataFrame(final_df.iloc[:,[2,3,4]]).copy()\n",
    "final_df\n"
   ]
  },
  {
   "cell_type": "code",
   "execution_count": 868,
   "metadata": {},
   "outputs": [
    {
     "name": "stdout",
     "output_type": "stream",
     "text": [
      "Number of features 3\n"
     ]
    }
   ],
   "source": [
    "dataset = final_df.values\n",
    "dataset = dataset.astype('float32')\n",
    "scaler = MinMaxScaler(feature_range=(0, 1))\n",
    "dataset = scaler.fit_transform(dataset)\n",
    "#print('dataset.shape', dataset.shape)\n",
    "num_of_features = len(final_df.columns)\n",
    "print('Number of features', num_of_features)"
   ]
  },
  {
   "cell_type": "code",
   "execution_count": 869,
   "metadata": {},
   "outputs": [],
   "source": [
    "look_back = 1\n",
    "lstm_layers = 64\n",
    "epochs=125\n"
   ]
  },
  {
   "cell_type": "code",
   "execution_count": 870,
   "metadata": {},
   "outputs": [
    {
     "name": "stdout",
     "output_type": "stream",
     "text": [
      "Training dataset length  24\n",
      "Testing dataset length  7\n",
      "look_back  1\n"
     ]
    }
   ],
   "source": [
    "train_size_percent = 0.80\n",
    "pred_col = final_df.columns.get_loc('close')\n",
    "\n",
    "# function to split the data\n",
    "def create_dataset(dataset, pred_col, look_back=1):\n",
    "    dataX, dataY = [], []\n",
    "    for i in range(len(dataset)-look_back-1):\n",
    "        a = dataset[i:(i+look_back), :]\n",
    "        dataX.append(a)\n",
    "        dataY.append(dataset[i + look_back, pred_col])\n",
    "    return np.array(dataX), np.array(dataY)\n",
    "\n",
    "\n",
    "train_size = int(len(dataset) * train_size_percent)\n",
    "test_size = len(dataset) - train_size\n",
    "train, test = dataset[0:train_size, :], dataset[train_size:len(dataset), :]\n",
    "\n",
    "trainX, trainY = create_dataset(train, pred_col, look_back=look_back)\n",
    "testX, testY = create_dataset(test, pred_col, look_back=look_back)\n",
    "\n",
    "\n",
    "# reshape input to be  [samples, time steps, features]\n",
    "trainX = np.reshape(trainX, (trainX.shape[0], look_back, num_of_features))\n",
    "testX = np.reshape(testX, (testX.shape[0],look_back, num_of_features))\n",
    "\n",
    "print('Training dataset length ', len(train))\n",
    "print('Testing dataset length ', len(test))\n",
    "print('look_back ', look_back)"
   ]
  },
  {
   "cell_type": "code",
   "execution_count": 871,
   "metadata": {},
   "outputs": [
    {
     "name": "stdout",
     "output_type": "stream",
     "text": [
      "(5, 1, 3) (5,)\n"
     ]
    }
   ],
   "source": [
    "print(testX.shape,testY.shape)"
   ]
  },
  {
   "cell_type": "code",
   "execution_count": 872,
   "metadata": {},
   "outputs": [
    {
     "name": "stdout",
     "output_type": "stream",
     "text": [
      "Epoch 1/125\n",
      "1/1 [==============================] - 28s 28s/step - loss: 0.0480 - val_loss: 0.5551\n",
      "Epoch 2/125\n",
      "1/1 [==============================] - 0s 156ms/step - loss: 0.0392 - val_loss: 0.5174\n",
      "Epoch 3/125\n",
      "1/1 [==============================] - 0s 133ms/step - loss: 0.0319 - val_loss: 0.4815\n",
      "Epoch 4/125\n",
      "1/1 [==============================] - 0s 153ms/step - loss: 0.0261 - val_loss: 0.4475\n",
      "Epoch 5/125\n",
      "1/1 [==============================] - 0s 121ms/step - loss: 0.0218 - val_loss: 0.4156\n",
      "Epoch 6/125\n",
      "1/1 [==============================] - 0s 169ms/step - loss: 0.0189 - val_loss: 0.3861\n",
      "Epoch 7/125\n",
      "1/1 [==============================] - 0s 191ms/step - loss: 0.0172 - val_loss: 0.3594\n",
      "Epoch 8/125\n",
      "1/1 [==============================] - 0s 188ms/step - loss: 0.0167 - val_loss: 0.3359\n",
      "Epoch 9/125\n",
      "1/1 [==============================] - 0s 241ms/step - loss: 0.0169 - val_loss: 0.3159\n",
      "Epoch 10/125\n",
      "1/1 [==============================] - 0s 192ms/step - loss: 0.0176 - val_loss: 0.2996\n",
      "Epoch 11/125\n",
      "1/1 [==============================] - 0s 173ms/step - loss: 0.0184 - val_loss: 0.2869\n",
      "Epoch 12/125\n",
      "1/1 [==============================] - 0s 176ms/step - loss: 0.0190 - val_loss: 0.2777\n",
      "Epoch 13/125\n",
      "1/1 [==============================] - 0s 248ms/step - loss: 0.0193 - val_loss: 0.2715\n",
      "Epoch 14/125\n",
      "1/1 [==============================] - 0s 211ms/step - loss: 0.0192 - val_loss: 0.2680\n",
      "Epoch 15/125\n",
      "1/1 [==============================] - 0s 143ms/step - loss: 0.0188 - val_loss: 0.2666\n",
      "Epoch 16/125\n",
      "1/1 [==============================] - 0s 215ms/step - loss: 0.0181 - val_loss: 0.2670\n",
      "Epoch 17/125\n",
      "1/1 [==============================] - 0s 206ms/step - loss: 0.0172 - val_loss: 0.2687\n",
      "Epoch 18/125\n",
      "1/1 [==============================] - 0s 161ms/step - loss: 0.0164 - val_loss: 0.2713\n",
      "Epoch 19/125\n",
      "1/1 [==============================] - 0s 202ms/step - loss: 0.0155 - val_loss: 0.2744\n",
      "Epoch 20/125\n",
      "1/1 [==============================] - 0s 124ms/step - loss: 0.0148 - val_loss: 0.2776\n",
      "Epoch 21/125\n",
      "1/1 [==============================] - 0s 156ms/step - loss: 0.0142 - val_loss: 0.2806\n",
      "Epoch 22/125\n",
      "1/1 [==============================] - 0s 98ms/step - loss: 0.0138 - val_loss: 0.2831\n",
      "Epoch 23/125\n",
      "1/1 [==============================] - 0s 151ms/step - loss: 0.0136 - val_loss: 0.2847\n",
      "Epoch 24/125\n",
      "1/1 [==============================] - 0s 120ms/step - loss: 0.0135 - val_loss: 0.2853\n",
      "Epoch 25/125\n",
      "1/1 [==============================] - 0s 208ms/step - loss: 0.0134 - val_loss: 0.2847\n",
      "Epoch 26/125\n",
      "1/1 [==============================] - 0s 242ms/step - loss: 0.0134 - val_loss: 0.2828\n",
      "Epoch 27/125\n",
      "1/1 [==============================] - 0s 92ms/step - loss: 0.0134 - val_loss: 0.2796\n",
      "Epoch 28/125\n",
      "1/1 [==============================] - 0s 178ms/step - loss: 0.0133 - val_loss: 0.2751\n",
      "Epoch 29/125\n",
      "1/1 [==============================] - 0s 275ms/step - loss: 0.0131 - val_loss: 0.2695\n",
      "Epoch 30/125\n",
      "1/1 [==============================] - 0s 227ms/step - loss: 0.0129 - val_loss: 0.2628\n",
      "Epoch 31/125\n",
      "1/1 [==============================] - 0s 322ms/step - loss: 0.0127 - val_loss: 0.2553\n",
      "Epoch 32/125\n",
      "1/1 [==============================] - 0s 192ms/step - loss: 0.0124 - val_loss: 0.2471\n",
      "Epoch 33/125\n",
      "1/1 [==============================] - 0s 178ms/step - loss: 0.0120 - val_loss: 0.2385\n",
      "Epoch 34/125\n",
      "1/1 [==============================] - 0s 207ms/step - loss: 0.0117 - val_loss: 0.2298\n",
      "Epoch 35/125\n",
      "1/1 [==============================] - 0s 233ms/step - loss: 0.0114 - val_loss: 0.2210\n",
      "Epoch 36/125\n",
      "1/1 [==============================] - 0s 184ms/step - loss: 0.0112 - val_loss: 0.2124\n",
      "Epoch 37/125\n",
      "1/1 [==============================] - 0s 186ms/step - loss: 0.0109 - val_loss: 0.2042\n",
      "Epoch 38/125\n",
      "1/1 [==============================] - 0s 261ms/step - loss: 0.0108 - val_loss: 0.1965\n",
      "Epoch 39/125\n",
      "1/1 [==============================] - 0s 240ms/step - loss: 0.0106 - val_loss: 0.1894\n",
      "Epoch 40/125\n",
      "1/1 [==============================] - 0s 180ms/step - loss: 0.0105 - val_loss: 0.1830\n",
      "Epoch 41/125\n",
      "1/1 [==============================] - 0s 161ms/step - loss: 0.0104 - val_loss: 0.1773\n",
      "Epoch 42/125\n",
      "1/1 [==============================] - 0s 157ms/step - loss: 0.0103 - val_loss: 0.1723\n",
      "Epoch 43/125\n",
      "1/1 [==============================] - 0s 200ms/step - loss: 0.0101 - val_loss: 0.1679\n",
      "Epoch 44/125\n",
      "1/1 [==============================] - 0s 191ms/step - loss: 0.0100 - val_loss: 0.1642\n",
      "Epoch 45/125\n",
      "1/1 [==============================] - 0s 163ms/step - loss: 0.0098 - val_loss: 0.1610\n",
      "Epoch 46/125\n",
      "1/1 [==============================] - 0s 277ms/step - loss: 0.0096 - val_loss: 0.1583\n",
      "Epoch 47/125\n",
      "1/1 [==============================] - 0s 193ms/step - loss: 0.0094 - val_loss: 0.1558\n",
      "Epoch 48/125\n",
      "1/1 [==============================] - 0s 218ms/step - loss: 0.0092 - val_loss: 0.1535\n",
      "Epoch 49/125\n",
      "1/1 [==============================] - 0s 225ms/step - loss: 0.0090 - val_loss: 0.1512\n",
      "Epoch 50/125\n",
      "1/1 [==============================] - 0s 251ms/step - loss: 0.0089 - val_loss: 0.1488\n",
      "Epoch 51/125\n",
      "1/1 [==============================] - 0s 163ms/step - loss: 0.0087 - val_loss: 0.1464\n",
      "Epoch 52/125\n",
      "1/1 [==============================] - 0s 235ms/step - loss: 0.0086 - val_loss: 0.1436\n",
      "Epoch 53/125\n",
      "1/1 [==============================] - 0s 235ms/step - loss: 0.0085 - val_loss: 0.1406\n",
      "Epoch 54/125\n",
      "1/1 [==============================] - 0s 112ms/step - loss: 0.0084 - val_loss: 0.1373\n",
      "Epoch 55/125\n",
      "1/1 [==============================] - 0s 135ms/step - loss: 0.0083 - val_loss: 0.1336\n",
      "Epoch 56/125\n",
      "1/1 [==============================] - 0s 149ms/step - loss: 0.0082 - val_loss: 0.1297\n",
      "Epoch 57/125\n",
      "1/1 [==============================] - 0s 272ms/step - loss: 0.0080 - val_loss: 0.1256\n",
      "Epoch 58/125\n",
      "1/1 [==============================] - 0s 308ms/step - loss: 0.0079 - val_loss: 0.1213\n",
      "Epoch 59/125\n",
      "1/1 [==============================] - 0s 169ms/step - loss: 0.0078 - val_loss: 0.1169\n",
      "Epoch 60/125\n",
      "1/1 [==============================] - 0s 178ms/step - loss: 0.0077 - val_loss: 0.1126\n",
      "Epoch 61/125\n",
      "1/1 [==============================] - 0s 215ms/step - loss: 0.0076 - val_loss: 0.1083\n",
      "Epoch 62/125\n",
      "1/1 [==============================] - 0s 211ms/step - loss: 0.0074 - val_loss: 0.1042\n",
      "Epoch 63/125\n",
      "1/1 [==============================] - 0s 167ms/step - loss: 0.0073 - val_loss: 0.1003\n",
      "Epoch 64/125\n",
      "1/1 [==============================] - 0s 298ms/step - loss: 0.0073 - val_loss: 0.0966\n",
      "Epoch 65/125\n",
      "1/1 [==============================] - 0s 222ms/step - loss: 0.0072 - val_loss: 0.0933\n",
      "Epoch 66/125\n",
      "1/1 [==============================] - 0s 208ms/step - loss: 0.0071 - val_loss: 0.0902\n",
      "Epoch 67/125\n",
      "1/1 [==============================] - 0s 239ms/step - loss: 0.0070 - val_loss: 0.0875\n",
      "Epoch 68/125\n",
      "1/1 [==============================] - 0s 242ms/step - loss: 0.0069 - val_loss: 0.0849\n",
      "Epoch 69/125\n",
      "1/1 [==============================] - 0s 124ms/step - loss: 0.0068 - val_loss: 0.0827\n",
      "Epoch 70/125\n",
      "1/1 [==============================] - 0s 170ms/step - loss: 0.0068 - val_loss: 0.0805\n",
      "Epoch 71/125\n",
      "1/1 [==============================] - 0s 175ms/step - loss: 0.0067 - val_loss: 0.0786\n",
      "Epoch 72/125\n",
      "1/1 [==============================] - 0s 94ms/step - loss: 0.0066 - val_loss: 0.0766\n",
      "Epoch 73/125\n",
      "1/1 [==============================] - 0s 134ms/step - loss: 0.0065 - val_loss: 0.0748\n",
      "Epoch 74/125\n",
      "1/1 [==============================] - 0s 105ms/step - loss: 0.0065 - val_loss: 0.0729\n",
      "Epoch 75/125\n",
      "1/1 [==============================] - 0s 112ms/step - loss: 0.0064 - val_loss: 0.0710\n",
      "Epoch 76/125\n",
      "1/1 [==============================] - 0s 219ms/step - loss: 0.0064 - val_loss: 0.0691\n",
      "Epoch 77/125\n",
      "1/1 [==============================] - 0s 167ms/step - loss: 0.0063 - val_loss: 0.0671\n",
      "Epoch 78/125\n",
      "1/1 [==============================] - 0s 223ms/step - loss: 0.0063 - val_loss: 0.0651\n",
      "Epoch 79/125\n",
      "1/1 [==============================] - 0s 223ms/step - loss: 0.0062 - val_loss: 0.0631\n",
      "Epoch 80/125\n",
      "1/1 [==============================] - 0s 283ms/step - loss: 0.0062 - val_loss: 0.0611\n",
      "Epoch 81/125\n",
      "1/1 [==============================] - 0s 178ms/step - loss: 0.0061 - val_loss: 0.0592\n",
      "Epoch 82/125\n",
      "1/1 [==============================] - 0s 154ms/step - loss: 0.0061 - val_loss: 0.0574\n",
      "Epoch 83/125\n",
      "1/1 [==============================] - 0s 183ms/step - loss: 0.0061 - val_loss: 0.0556\n",
      "Epoch 84/125\n",
      "1/1 [==============================] - 0s 156ms/step - loss: 0.0060 - val_loss: 0.0540\n",
      "Epoch 85/125\n",
      "1/1 [==============================] - 0s 303ms/step - loss: 0.0060 - val_loss: 0.0526\n",
      "Epoch 86/125\n",
      "1/1 [==============================] - 0s 171ms/step - loss: 0.0060 - val_loss: 0.0513\n",
      "Epoch 87/125\n",
      "1/1 [==============================] - 0s 206ms/step - loss: 0.0059 - val_loss: 0.0501\n",
      "Epoch 88/125\n",
      "1/1 [==============================] - 0s 293ms/step - loss: 0.0059 - val_loss: 0.0490\n",
      "Epoch 89/125\n",
      "1/1 [==============================] - 0s 317ms/step - loss: 0.0059 - val_loss: 0.0481\n",
      "Epoch 90/125\n",
      "1/1 [==============================] - 0s 200ms/step - loss: 0.0059 - val_loss: 0.0472\n",
      "Epoch 91/125\n",
      "1/1 [==============================] - 0s 260ms/step - loss: 0.0058 - val_loss: 0.0464\n",
      "Epoch 92/125\n",
      "1/1 [==============================] - 0s 171ms/step - loss: 0.0058 - val_loss: 0.0457\n",
      "Epoch 93/125\n",
      "1/1 [==============================] - 0s 284ms/step - loss: 0.0058 - val_loss: 0.0450\n",
      "Epoch 94/125\n",
      "1/1 [==============================] - 0s 210ms/step - loss: 0.0058 - val_loss: 0.0443\n",
      "Epoch 95/125\n",
      "1/1 [==============================] - 0s 224ms/step - loss: 0.0058 - val_loss: 0.0436\n",
      "Epoch 96/125\n",
      "1/1 [==============================] - 0s 132ms/step - loss: 0.0058 - val_loss: 0.0429\n",
      "Epoch 97/125\n",
      "1/1 [==============================] - 0s 236ms/step - loss: 0.0058 - val_loss: 0.0423\n",
      "Epoch 98/125\n",
      "1/1 [==============================] - 0s 242ms/step - loss: 0.0057 - val_loss: 0.0416\n",
      "Epoch 99/125\n",
      "1/1 [==============================] - 0s 139ms/step - loss: 0.0057 - val_loss: 0.0410\n",
      "Epoch 100/125\n",
      "1/1 [==============================] - 0s 213ms/step - loss: 0.0057 - val_loss: 0.0404\n",
      "Epoch 101/125\n",
      "1/1 [==============================] - 0s 136ms/step - loss: 0.0057 - val_loss: 0.0399\n",
      "Epoch 102/125\n",
      "1/1 [==============================] - 0s 239ms/step - loss: 0.0057 - val_loss: 0.0395\n",
      "Epoch 103/125\n",
      "1/1 [==============================] - 0s 194ms/step - loss: 0.0057 - val_loss: 0.0391\n",
      "Epoch 104/125\n",
      "1/1 [==============================] - 0s 179ms/step - loss: 0.0057 - val_loss: 0.0387\n",
      "Epoch 105/125\n",
      "1/1 [==============================] - 0s 174ms/step - loss: 0.0057 - val_loss: 0.0384\n",
      "Epoch 106/125\n",
      "1/1 [==============================] - 0s 206ms/step - loss: 0.0057 - val_loss: 0.0382\n",
      "Epoch 107/125\n",
      "1/1 [==============================] - 0s 119ms/step - loss: 0.0057 - val_loss: 0.0380\n",
      "Epoch 108/125\n",
      "1/1 [==============================] - 0s 186ms/step - loss: 0.0057 - val_loss: 0.0378\n",
      "Epoch 109/125\n",
      "1/1 [==============================] - 0s 139ms/step - loss: 0.0057 - val_loss: 0.0377\n",
      "Epoch 110/125\n",
      "1/1 [==============================] - 0s 166ms/step - loss: 0.0057 - val_loss: 0.0375\n",
      "Epoch 111/125\n",
      "1/1 [==============================] - 0s 99ms/step - loss: 0.0057 - val_loss: 0.0374\n",
      "Epoch 112/125\n",
      "1/1 [==============================] - 0s 158ms/step - loss: 0.0057 - val_loss: 0.0372\n",
      "Epoch 113/125\n",
      "1/1 [==============================] - 0s 194ms/step - loss: 0.0057 - val_loss: 0.0371\n",
      "Epoch 114/125\n",
      "1/1 [==============================] - 0s 170ms/step - loss: 0.0057 - val_loss: 0.0370\n",
      "Epoch 115/125\n",
      "1/1 [==============================] - 0s 132ms/step - loss: 0.0056 - val_loss: 0.0369\n",
      "Epoch 116/125\n",
      "1/1 [==============================] - 0s 187ms/step - loss: 0.0056 - val_loss: 0.0367\n",
      "Epoch 117/125\n",
      "1/1 [==============================] - 0s 152ms/step - loss: 0.0056 - val_loss: 0.0366\n",
      "Epoch 118/125\n",
      "1/1 [==============================] - 0s 143ms/step - loss: 0.0056 - val_loss: 0.0366\n",
      "Epoch 119/125\n",
      "1/1 [==============================] - 0s 152ms/step - loss: 0.0056 - val_loss: 0.0365\n",
      "Epoch 120/125\n",
      "1/1 [==============================] - 0s 200ms/step - loss: 0.0056 - val_loss: 0.0365\n",
      "Epoch 121/125\n",
      "1/1 [==============================] - 0s 189ms/step - loss: 0.0056 - val_loss: 0.0365\n",
      "Epoch 122/125\n",
      "1/1 [==============================] - 0s 181ms/step - loss: 0.0056 - val_loss: 0.0364\n",
      "Epoch 123/125\n",
      "1/1 [==============================] - 0s 195ms/step - loss: 0.0056 - val_loss: 0.0365\n",
      "Epoch 124/125\n",
      "1/1 [==============================] - 0s 156ms/step - loss: 0.0056 - val_loss: 0.0365\n",
      "Epoch 125/125\n",
      "1/1 [==============================] - 0s 294ms/step - loss: 0.0056 - val_loss: 0.0365\n"
     ]
    }
   ],
   "source": [
    "model = Sequential()\n",
    "model.add(Bidirectional(LSTM(lstm_layers, input_shape=(look_back,num_of_features))))\n",
    "model.add(Dense(5))\n",
    "model.add(Dense(1))\n",
    "model.compile(loss='mean_squared_error', optimizer='adam')\n",
    "history= model.fit(trainX, trainY,validation_split=0.30, epochs=epochs,shuffle=False)"
   ]
  },
  {
   "cell_type": "code",
   "execution_count": 873,
   "metadata": {},
   "outputs": [
    {
     "data": {
      "image/png": "[encoded data removed]",
      "text/plain": [
       "<Figure size 432x288 with 1 Axes>"
      ]
     },
     "metadata": {
      "needs_background": "light"
     },
     "output_type": "display_data"
    }
   ],
   "source": [
    "# Plot training\n",
    "plt.plot(history.history['loss'])\n",
    "plt.plot(history.history['val_loss'])\n",
    "plt.title('Model loss')\n",
    "plt.ylabel('Loss')\n",
    "plt.xlabel('Epoch')\n",
    "plt.legend(['training', 'validation'], loc='upper right')\n",
    "plt.show()"
   ]
  },
  {
   "cell_type": "code",
   "execution_count": 874,
   "metadata": {},
   "outputs": [],
   "source": [
    "trainPredict = model.predict(trainX) # Trainset predictions\n",
    "testPredict = model.predict(testX) # Test_set predictions\n",
    "\n",
    "# Get something which has as many features as dataset\n",
    "trainPredict_extended = np.zeros((len(trainPredict),num_of_features))\n",
    "# Put the predictions there\n",
    "trainPredict_extended[:,pred_col] = trainPredict[:,0]\n",
    "# Inverse transform it and select the 3rd column.\n",
    "trainPredict = scaler.inverse_transform(trainPredict_extended) [:,pred_col]\n",
    "\n",
    "# Get something which has as many features as dataset\n",
    "testPredict_extended = np.zeros((len(testPredict),num_of_features))\n",
    "# Put the predictions there\n",
    "testPredict_extended[:,pred_col] = testPredict[:,0]\n",
    "# Inverse transform it and select the pred_col column.\n",
    "testPredict = scaler.inverse_transform(testPredict_extended)[:,pred_col] \n",
    "\n",
    "trainY_extended = np.zeros((len(trainY),num_of_features))\n",
    "trainY_extended[:,pred_col]=trainY\n",
    "trainY = scaler.inverse_transform(trainY_extended)[:,pred_col]\n",
    "\n",
    "testY_extended = np.zeros((len(testY),num_of_features))\n",
    "testY_extended[:,pred_col]=testY\n",
    "testY = scaler.inverse_transform(testY_extended)[:,pred_col]\n",
    "\n",
    "# calculate root mean squared error\n",
    "trainScore_RMSE = math.sqrt(mean_squared_error(trainY, trainPredict))\n",
    "testScore_RMSE = math.sqrt(mean_squared_error(testY, testPredict))\n",
    "\n",
    "# calculate absolute mean error\n",
    "trainScore_MAE = np.sum(np.absolute(trainY - trainPredict))/len(trainY)\n",
    "testScore_MAE = np.sum(np.absolute(testY - testPredict))/len(testY)"
   ]
  },
  {
   "cell_type": "code",
   "execution_count": 875,
   "metadata": {},
   "outputs": [
    {
     "name": "stdout",
     "output_type": "stream",
     "text": [
      "0.31936864363159273 0.24044375061630435\n"
     ]
    }
   ],
   "source": [
    "print(trainScore_RMSE,trainScore_MAE)"
   ]
  },
  {
   "cell_type": "code",
   "execution_count": 876,
   "metadata": {},
   "outputs": [
    {
     "name": "stdout",
     "output_type": "stream",
     "text": [
      "0.3181908681057473 0.30552508471455464\n"
     ]
    }
   ],
   "source": [
    "print(testScore_RMSE,testScore_MAE)"
   ]
  },
  {
   "cell_type": "code",
   "execution_count": 877,
   "metadata": {},
   "outputs": [
    {
     "data": {
      "text/plain": [
       "Text(0.5, 1.0, 'Steem Price Prediction')"
      ]
     },
     "execution_count": 877,
     "metadata": {},
     "output_type": "execute_result"
    },
    {
     "data": {
      "image/png": "[encoded data removed]",
      "text/plain": [
       "<Figure size 1080x504 with 1 Axes>"
      ]
     },
     "metadata": {
      "needs_background": "light"
     },
     "output_type": "display_data"
    }
   ],
   "source": [
    "# shift train predictions for plotting\n",
    "trainPredictPlot = np.empty_like(dataset)\n",
    "trainPredictPlot[:, :] = np.nan\n",
    "trainPredictPlot[look_back:len(trainPredict)+look_back, pred_col] = trainPredict\n",
    "\n",
    "# shift test predictions for plotting\n",
    "testPredictPlot = np.empty_like(dataset)\n",
    "testPredictPlot[:, :] = np.nan\n",
    "testPredictPlot[len(trainPredict)+(look_back*2)+1:len(dataset)-1, pred_col] = testPredict\n",
    "\n",
    "# contruct pandas dataframe for plotting\n",
    "time_df = pd.DataFrame(final_df.index)\n",
    "time_df['Actual'] = scaler.inverse_transform(dataset)[:,pred_col]\n",
    "df1 = pd.DataFrame(trainPredictPlot[:,pred_col],columns=['Train'])\n",
    "df2 = pd.DataFrame(testPredictPlot[:,pred_col],columns=['Test'])\n",
    "time_df2 = pd.concat([time_df, df1, df2], axis=1, sort=False)\n",
    "time_df2.set_index('timestamp',inplace=True)\n",
    "\n",
    "# plot the output\n",
    "fig, ax = plt.subplots(figsize=(15,7))\n",
    "time_df2.plot(ax=ax,rot=90,alpha=0.7)\n",
    "plt.xlabel('Timestamp')\n",
    "plt.ylabel('Steem Price')\n",
    "plt.title('Steem Price Prediction')\n"
   ]
  },
  {
   "cell_type": "code",
   "execution_count": null,
   "metadata": {},
   "outputs": [],
   "source": []
  },
  {
   "cell_type": "code",
   "execution_count": null,
   "metadata": {},
   "outputs": [],
   "source": []
  },
  {
   "cell_type": "code",
   "execution_count": null,
   "metadata": {},
   "outputs": [],
   "source": []
  },
  {
   "cell_type": "code",
   "execution_count": null,
   "metadata": {},
   "outputs": [],
   "source": [
    "0.8969952927670691 0.702876181958878\n"
   ]
  },
  {
   "cell_type": "code",
   "execution_count": null,
   "metadata": {},
   "outputs": [],
   "source": []
  },
  {
   "cell_type": "code",
   "execution_count": 114,
   "metadata": {},
   "outputs": [
    {
     "name": "stdout",
     "output_type": "stream",
     "text": [
      "0.3565553033212433 0.2597620729111325\n"
     ]
    }
   ],
   "source": [
    "##FULL\n",
    "\n",
    "print(trainScore_RMSE,trainScore_MAE)"
   ]
  },
  {
   "cell_type": "code",
   "execution_count": 115,
   "metadata": {},
   "outputs": [
    {
     "name": "stdout",
     "output_type": "stream",
     "text": [
      "0.43143869391714657 0.3547568135838626\n"
     ]
    }
   ],
   "source": [
    "print(testScore_RMSE,testScore_MAE)"
   ]
  },
  {
   "cell_type": "code",
   "execution_count": 130,
   "metadata": {},
   "outputs": [
    {
     "name": "stdout",
     "output_type": "stream",
     "text": [
      "0.31746201258865187 0.24129058544385662\n"
     ]
    }
   ],
   "source": [
    "##BITCOIN AND MARKET\n",
    "\n",
    "print(trainScore_RMSE,trainScore_MAE)"
   ]
  },
  {
   "cell_type": "code",
   "execution_count": 131,
   "metadata": {},
   "outputs": [
    {
     "name": "stdout",
     "output_type": "stream",
     "text": [
      "0.31996400680632303 0.30727128985023044\n"
     ]
    }
   ],
   "source": [
    "print(testScore_RMSE,testScore_MAE)"
   ]
  },
  {
   "cell_type": "code",
   "execution_count": 146,
   "metadata": {},
   "outputs": [
    {
     "name": "stdout",
     "output_type": "stream",
     "text": [
      "0.3495184896893735 0.25903783311469114\n"
     ]
    }
   ],
   "source": [
    "##BITCOIN\n",
    "\n",
    "print(trainScore_RMSE,trainScore_MAE)"
   ]
  },
  {
   "cell_type": "code",
   "execution_count": 147,
   "metadata": {},
   "outputs": [
    {
     "name": "stdout",
     "output_type": "stream",
     "text": [
      "0.3746822738311195 0.2928573846689518\n"
     ]
    }
   ],
   "source": [
    "print(testScore_RMSE,testScore_MAE)"
   ]
  },
  {
   "cell_type": "code",
   "execution_count": 160,
   "metadata": {},
   "outputs": [
    {
     "name": "stdout",
     "output_type": "stream",
     "text": [
      "0.46730672379238286 0.3351199160178734\n",
      "0.6298092762028549 0.5759526471642051\n"
     ]
    }
   ],
   "source": [
    "##MARKET\n",
    "\n",
    "print(trainScore_RMSE,trainScore_MAE)\n",
    "\n",
    "print(testScore_RMSE,testScore_MAE)"
   ]
  },
  {
   "cell_type": "code",
   "execution_count": 175,
   "metadata": {},
   "outputs": [
    {
     "name": "stdout",
     "output_type": "stream",
     "text": [
      "0.4175345647463488 0.30107007589248214\n",
      "0.5261657058075663 0.46153089896461424\n"
     ]
    }
   ],
   "source": [
    "##UPVOTE AND STEEMIT\n",
    "\n",
    "print(trainScore_RMSE,trainScore_MAE)\n",
    "\n",
    "print(testScore_RMSE,testScore_MAE)"
   ]
  },
  {
   "cell_type": "code",
   "execution_count": 177,
   "metadata": {},
   "outputs": [
    {
     "data": {
      "text/plain": [
       "1.7497953267339612"
      ]
     },
     "execution_count": 177,
     "metadata": {},
     "output_type": "execute_result"
    }
   ],
   "source": [
    "0.5124404830932618/0.2928573846689518"
   ]
  }
 ],
 "metadata": {
  "kernelspec": {
   "display_name": "Python [conda env:py38]",
   "language": "python",
   "name": "conda-env-py38-py"
  },
  "language_info": {
   "codemirror_mode": {
    "name": "ipython",
    "version": 3
   },
   "file_extension": ".py",
   "mimetype": "text/x-python",
   "name": "python",
   "nbconvert_exporter": "python",
   "pygments_lexer": "ipython3",
   "version": "3.8.13"
  }
 },
 "nbformat": 4,
 "nbformat_minor": 4
}
