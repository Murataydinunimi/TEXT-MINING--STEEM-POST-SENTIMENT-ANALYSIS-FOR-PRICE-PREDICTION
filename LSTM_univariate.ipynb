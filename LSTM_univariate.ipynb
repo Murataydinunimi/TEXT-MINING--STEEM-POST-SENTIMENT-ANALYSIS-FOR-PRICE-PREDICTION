{
 "cells": [
  {
   "cell_type": "code",
   "execution_count": 1,
   "metadata": {},
   "outputs": [
    {
     "name": "stderr",
     "output_type": "stream",
     "text": [
      "2022-05-01 21:34:13.687431: W tensorflow/stream_executor/platform/default/dso_loader.cc:64] Could not load dynamic library 'libcudart.so.11.0'; dlerror: libcudart.so.11.0: cannot open shared object file: No such file or directory\n",
      "2022-05-01 21:34:13.687481: I tensorflow/stream_executor/cuda/cudart_stub.cc:29] Ignore above cudart dlerror if you do not have a GPU set up on your machine.\n",
      "[nltk_data] Error loading stopwords: <urlopen error [Errno 104]\n",
      "[nltk_data]     Connection reset by peer>\n"
     ]
    }
   ],
   "source": [
    "from Pre_Processing import *\n",
    "import numpy as np\n",
    "import pandas as pd\n",
    "import math\n",
    "\n",
    "from sklearn.preprocessing import MinMaxScaler\n",
    "from keras.layers import *\n",
    "from keras.models import *\n",
    "\n",
    "import matplotlib.pyplot as plt\n",
    "\n",
    "from sklearn.metrics import mean_squared_error\n",
    "warnings.filterwarnings('ignore')"
   ]
  },
  {
   "cell_type": "code",
   "execution_count": 233,
   "metadata": {},
   "outputs": [],
   "source": [
    "month = \"december\"\n",
    "year=2017\n",
    "LSTM_data = prepare_data_LSTM(month=month,year=year)\n"
   ]
  },
  {
   "cell_type": "code",
   "execution_count": 217,
   "metadata": {},
   "outputs": [
    {
     "data": {
      "text/html": [
       "<div>\n",
       "<style scoped>\n",
       "    .dataframe tbody tr th:only-of-type {\n",
       "        vertical-align: middle;\n",
       "    }\n",
       "\n",
       "    .dataframe tbody tr th {\n",
       "        vertical-align: top;\n",
       "    }\n",
       "\n",
       "    .dataframe thead th {\n",
       "        text-align: right;\n",
       "    }\n",
       "</style>\n",
       "<table border=\"1\" class=\"dataframe\">\n",
       "  <thead>\n",
       "    <tr style=\"text-align: right;\">\n",
       "      <th></th>\n",
       "      <th>4_bitcoin_price_coin_money</th>\n",
       "      <th>6_market_report_share_company</th>\n",
       "      <th>9_steemit_upvote_comment_vote</th>\n",
       "      <th>13_post_follow_content_read</th>\n",
       "      <th>close</th>\n",
       "    </tr>\n",
       "    <tr>\n",
       "      <th>timestamp</th>\n",
       "      <th></th>\n",
       "      <th></th>\n",
       "      <th></th>\n",
       "      <th></th>\n",
       "      <th></th>\n",
       "    </tr>\n",
       "  </thead>\n",
       "  <tbody>\n",
       "    <tr>\n",
       "      <th>2018-01-01</th>\n",
       "      <td>0.606258</td>\n",
       "      <td>0.683181</td>\n",
       "      <td>0.841572</td>\n",
       "      <td>0.880299</td>\n",
       "      <td>4.01</td>\n",
       "    </tr>\n",
       "    <tr>\n",
       "      <th>2018-01-02</th>\n",
       "      <td>0.536905</td>\n",
       "      <td>0.668969</td>\n",
       "      <td>0.847874</td>\n",
       "      <td>0.878371</td>\n",
       "      <td>6.69</td>\n",
       "    </tr>\n",
       "    <tr>\n",
       "      <th>2018-01-03</th>\n",
       "      <td>0.610203</td>\n",
       "      <td>0.665668</td>\n",
       "      <td>0.814142</td>\n",
       "      <td>0.868791</td>\n",
       "      <td>8.03</td>\n",
       "    </tr>\n",
       "    <tr>\n",
       "      <th>2018-01-04</th>\n",
       "      <td>0.598255</td>\n",
       "      <td>0.679881</td>\n",
       "      <td>0.810370</td>\n",
       "      <td>0.885999</td>\n",
       "      <td>6.56</td>\n",
       "    </tr>\n",
       "    <tr>\n",
       "      <th>2018-01-05</th>\n",
       "      <td>0.585906</td>\n",
       "      <td>0.699818</td>\n",
       "      <td>0.864995</td>\n",
       "      <td>0.891050</td>\n",
       "      <td>5.81</td>\n",
       "    </tr>\n",
       "  </tbody>\n",
       "</table>\n",
       "</div>"
      ],
      "text/plain": [
       "            4_bitcoin_price_coin_money  6_market_report_share_company  \\\n",
       "timestamp                                                               \n",
       "2018-01-01                    0.606258                       0.683181   \n",
       "2018-01-02                    0.536905                       0.668969   \n",
       "2018-01-03                    0.610203                       0.665668   \n",
       "2018-01-04                    0.598255                       0.679881   \n",
       "2018-01-05                    0.585906                       0.699818   \n",
       "\n",
       "            9_steemit_upvote_comment_vote  13_post_follow_content_read  close  \n",
       "timestamp                                                                      \n",
       "2018-01-01                       0.841572                     0.880299   4.01  \n",
       "2018-01-02                       0.847874                     0.878371   6.69  \n",
       "2018-01-03                       0.814142                     0.868791   8.03  \n",
       "2018-01-04                       0.810370                     0.885999   6.56  \n",
       "2018-01-05                       0.864995                     0.891050   5.81  "
      ]
     },
     "execution_count": 217,
     "metadata": {},
     "output_type": "execute_result"
    }
   ],
   "source": [
    "LSTM_data.head()"
   ]
  },
  {
   "cell_type": "code",
   "execution_count": 137,
   "metadata": {},
   "outputs": [
    {
     "data": {
      "text/html": [
       "<div>\n",
       "<style scoped>\n",
       "    .dataframe tbody tr th:only-of-type {\n",
       "        vertical-align: middle;\n",
       "    }\n",
       "\n",
       "    .dataframe tbody tr th {\n",
       "        vertical-align: top;\n",
       "    }\n",
       "\n",
       "    .dataframe thead th {\n",
       "        text-align: right;\n",
       "    }\n",
       "</style>\n",
       "<table border=\"1\" class=\"dataframe\">\n",
       "  <thead>\n",
       "    <tr style=\"text-align: right;\">\n",
       "      <th></th>\n",
       "      <th>close</th>\n",
       "    </tr>\n",
       "    <tr>\n",
       "      <th>timestamp</th>\n",
       "      <th></th>\n",
       "    </tr>\n",
       "  </thead>\n",
       "  <tbody>\n",
       "    <tr>\n",
       "      <th>2017-10-01</th>\n",
       "      <td>1.41</td>\n",
       "    </tr>\n",
       "    <tr>\n",
       "      <th>2017-10-02</th>\n",
       "      <td>1.31</td>\n",
       "    </tr>\n",
       "    <tr>\n",
       "      <th>2017-10-03</th>\n",
       "      <td>1.23</td>\n",
       "    </tr>\n",
       "    <tr>\n",
       "      <th>2017-10-04</th>\n",
       "      <td>1.18</td>\n",
       "    </tr>\n",
       "    <tr>\n",
       "      <th>2017-10-05</th>\n",
       "      <td>1.17</td>\n",
       "    </tr>\n",
       "    <tr>\n",
       "      <th>...</th>\n",
       "      <td>...</td>\n",
       "    </tr>\n",
       "    <tr>\n",
       "      <th>2018-06-26</th>\n",
       "      <td>1.27</td>\n",
       "    </tr>\n",
       "    <tr>\n",
       "      <th>2018-06-27</th>\n",
       "      <td>1.27</td>\n",
       "    </tr>\n",
       "    <tr>\n",
       "      <th>2018-06-28</th>\n",
       "      <td>1.18</td>\n",
       "    </tr>\n",
       "    <tr>\n",
       "      <th>2018-06-29</th>\n",
       "      <td>1.33</td>\n",
       "    </tr>\n",
       "    <tr>\n",
       "      <th>2018-06-30</th>\n",
       "      <td>1.63</td>\n",
       "    </tr>\n",
       "  </tbody>\n",
       "</table>\n",
       "<p>273 rows × 1 columns</p>\n",
       "</div>"
      ],
      "text/plain": [
       "            close\n",
       "timestamp        \n",
       "2017-10-01   1.41\n",
       "2017-10-02   1.31\n",
       "2017-10-03   1.23\n",
       "2017-10-04   1.18\n",
       "2017-10-05   1.17\n",
       "...           ...\n",
       "2018-06-26   1.27\n",
       "2018-06-27   1.27\n",
       "2018-06-28   1.18\n",
       "2018-06-29   1.33\n",
       "2018-06-30   1.63\n",
       "\n",
       "[273 rows x 1 columns]"
      ]
     },
     "execution_count": 137,
     "metadata": {},
     "output_type": "execute_result"
    }
   ],
   "source": [
    "import datetime\n",
    "\n",
    "MIN_DATE = datetime.date(2017,10,1)\n",
    "MAX_DATE = datetime.date(2018,6,30)\n",
    "\n",
    "price_data = pd.read_csv(\"SteemCoinFull.csv\",sep=\";\")\n",
    "price_data[\"Date\"] = pd.to_datetime(price_data[\"Date\"])\n",
    "price_data[\"Date\"] = pd.to_datetime(price_data[\"Date\"]).dt.date\n",
    "price_data.columns = [\"timestamp\",\"open\",\"high\",\"low\",\"close\",\"volume\",\"market_cap\"]\n",
    "\n",
    "price_data = price_data[(price_data[\"timestamp\"]>=MIN_DATE) & (price_data[\"timestamp\"]<=MAX_DATE)]\n",
    "price_data = price_data.sort_values(by=\"timestamp\")\n",
    "price_data = price_data.reset_index()\n",
    "price_data = price_data.drop(\"index\",axis=1)\n",
    "price_data = price_data.drop([\"open\",\"high\",\"low\",\"volume\",\"market_cap\"],axis=1)\n",
    "\n",
    "\n",
    "LSTM_data = price_data.copy()\n",
    "LSTM_data[\"close\"] = LSTM_data[\"close\"].str.replace(',', '.').astype(float)\n",
    "LSTM_data = LSTM_data.set_index(\"timestamp\")\n",
    "LSTM_data"
   ]
  },
  {
   "cell_type": "code",
   "execution_count": 234,
   "metadata": {},
   "outputs": [
    {
     "name": "stdout",
     "output_type": "stream",
     "text": [
      "Number of features 1\n"
     ]
    }
   ],
   "source": [
    "dataset = LSTM_data.close.values\n",
    "dataset = dataset.reshape(-1,1)\n",
    "scaler = MinMaxScaler(feature_range=(0, 1))\n",
    "dataset = scaler.fit_transform(dataset)\n",
    "#print('dataset.shape', dataset.shape)\n",
    "num_of_features = 1\n",
    "print('Number of features', num_of_features)"
   ]
  },
  {
   "cell_type": "code",
   "execution_count": 235,
   "metadata": {},
   "outputs": [],
   "source": [
    "look_back = 1\n",
    "lstm_layers = 64\n",
    "epochs=125\n"
   ]
  },
  {
   "cell_type": "code",
   "execution_count": 236,
   "metadata": {},
   "outputs": [],
   "source": [
    "def create_dataset(dataset, look_back=5):\n",
    "    dataX, dataY = [], []\n",
    "    for i in range(len(dataset)-look_back-1):\n",
    "        a = dataset[i:(i+look_back), 0]\n",
    "        dataX.append(a)\n",
    "        dataY.append(dataset[i + look_back, 0])\n",
    "    return np.array(dataX), np.array(dataY)\n",
    "\n",
    "train_size_percent = 0.80\n",
    "\n",
    "\n",
    "train_size = int(len(dataset) * train_size_percent)\n",
    "test_size = len(dataset) - train_size\n",
    "train, test = dataset[0:train_size, :], dataset[train_size:len(dataset), :]\n",
    "\n",
    "\n",
    "trainX, trainY = create_dataset(train, look_back=look_back)\n",
    "testX, testY = create_dataset(test, look_back=look_back)"
   ]
  },
  {
   "cell_type": "code",
   "execution_count": 237,
   "metadata": {},
   "outputs": [
    {
     "data": {
      "text/plain": [
       "(22, 1)"
      ]
     },
     "execution_count": 237,
     "metadata": {},
     "output_type": "execute_result"
    }
   ],
   "source": [
    "trainX.shape"
   ]
  },
  {
   "cell_type": "code",
   "execution_count": 238,
   "metadata": {},
   "outputs": [],
   "source": [
    "trainX = np.reshape(trainX, (trainX.shape[0], look_back, num_of_features))\n",
    "testX = np.reshape(testX, (testX.shape[0],look_back, num_of_features))"
   ]
  },
  {
   "cell_type": "code",
   "execution_count": 239,
   "metadata": {},
   "outputs": [
    {
     "name": "stdout",
     "output_type": "stream",
     "text": [
      "(22, 1, 1) (5, 1, 1)\n"
     ]
    }
   ],
   "source": [
    "print(trainX.shape,testX.shape)"
   ]
  },
  {
   "cell_type": "code",
   "execution_count": 240,
   "metadata": {},
   "outputs": [
    {
     "name": "stdout",
     "output_type": "stream",
     "text": [
      "Epoch 1/125\n",
      "1/1 [==============================] - 31s 31s/step - loss: 0.0694 - val_loss: 0.5705\n",
      "Epoch 2/125\n",
      "1/1 [==============================] - 0s 195ms/step - loss: 0.0642 - val_loss: 0.5452\n",
      "Epoch 3/125\n",
      "1/1 [==============================] - 0s 244ms/step - loss: 0.0592 - val_loss: 0.5205\n",
      "Epoch 4/125\n",
      "1/1 [==============================] - 0s 231ms/step - loss: 0.0545 - val_loss: 0.4963\n",
      "Epoch 5/125\n",
      "1/1 [==============================] - 0s 197ms/step - loss: 0.0500 - val_loss: 0.4728\n",
      "Epoch 6/125\n",
      "1/1 [==============================] - 0s 127ms/step - loss: 0.0458 - val_loss: 0.4498\n",
      "Epoch 7/125\n",
      "1/1 [==============================] - 0s 177ms/step - loss: 0.0417 - val_loss: 0.4275\n",
      "Epoch 8/125\n",
      "1/1 [==============================] - 0s 243ms/step - loss: 0.0380 - val_loss: 0.4058\n",
      "Epoch 9/125\n",
      "1/1 [==============================] - 0s 123ms/step - loss: 0.0344 - val_loss: 0.3847\n",
      "Epoch 10/125\n",
      "1/1 [==============================] - 0s 151ms/step - loss: 0.0311 - val_loss: 0.3643\n",
      "Epoch 11/125\n",
      "1/1 [==============================] - 0s 174ms/step - loss: 0.0280 - val_loss: 0.3445\n",
      "Epoch 12/125\n",
      "1/1 [==============================] - 0s 186ms/step - loss: 0.0252 - val_loss: 0.3255\n",
      "Epoch 13/125\n",
      "1/1 [==============================] - 0s 296ms/step - loss: 0.0226 - val_loss: 0.3071\n",
      "Epoch 14/125\n",
      "1/1 [==============================] - 0s 212ms/step - loss: 0.0202 - val_loss: 0.2894\n",
      "Epoch 15/125\n",
      "1/1 [==============================] - 0s 313ms/step - loss: 0.0181 - val_loss: 0.2725\n",
      "Epoch 16/125\n",
      "1/1 [==============================] - 0s 197ms/step - loss: 0.0163 - val_loss: 0.2563\n",
      "Epoch 17/125\n",
      "1/1 [==============================] - 0s 188ms/step - loss: 0.0146 - val_loss: 0.2408\n",
      "Epoch 18/125\n",
      "1/1 [==============================] - 0s 231ms/step - loss: 0.0132 - val_loss: 0.2262\n",
      "Epoch 19/125\n",
      "1/1 [==============================] - 0s 281ms/step - loss: 0.0121 - val_loss: 0.2124\n",
      "Epoch 20/125\n",
      "1/1 [==============================] - 0s 260ms/step - loss: 0.0111 - val_loss: 0.1994\n",
      "Epoch 21/125\n",
      "1/1 [==============================] - 0s 164ms/step - loss: 0.0103 - val_loss: 0.1873\n",
      "Epoch 22/125\n",
      "1/1 [==============================] - 0s 257ms/step - loss: 0.0098 - val_loss: 0.1761\n",
      "Epoch 23/125\n",
      "1/1 [==============================] - 0s 156ms/step - loss: 0.0094 - val_loss: 0.1658\n",
      "Epoch 24/125\n",
      "1/1 [==============================] - 0s 238ms/step - loss: 0.0092 - val_loss: 0.1563\n",
      "Epoch 25/125\n",
      "1/1 [==============================] - 0s 306ms/step - loss: 0.0090 - val_loss: 0.1478\n",
      "Epoch 26/125\n",
      "1/1 [==============================] - 0s 206ms/step - loss: 0.0091 - val_loss: 0.1403\n",
      "Epoch 27/125\n",
      "1/1 [==============================] - 0s 245ms/step - loss: 0.0091 - val_loss: 0.1336\n",
      "Epoch 28/125\n",
      "1/1 [==============================] - 0s 222ms/step - loss: 0.0093 - val_loss: 0.1279\n",
      "Epoch 29/125\n",
      "1/1 [==============================] - 0s 177ms/step - loss: 0.0094 - val_loss: 0.1230\n",
      "Epoch 30/125\n",
      "1/1 [==============================] - 0s 176ms/step - loss: 0.0096 - val_loss: 0.1190\n",
      "Epoch 31/125\n",
      "1/1 [==============================] - 0s 163ms/step - loss: 0.0098 - val_loss: 0.1158\n",
      "Epoch 32/125\n",
      "1/1 [==============================] - 0s 167ms/step - loss: 0.0099 - val_loss: 0.1134\n",
      "Epoch 33/125\n",
      "1/1 [==============================] - 0s 103ms/step - loss: 0.0100 - val_loss: 0.1116\n",
      "Epoch 34/125\n",
      "1/1 [==============================] - 0s 214ms/step - loss: 0.0100 - val_loss: 0.1105\n",
      "Epoch 35/125\n",
      "1/1 [==============================] - 0s 149ms/step - loss: 0.0100 - val_loss: 0.1101\n",
      "Epoch 36/125\n",
      "1/1 [==============================] - 0s 225ms/step - loss: 0.0100 - val_loss: 0.1101\n",
      "Epoch 37/125\n",
      "1/1 [==============================] - 0s 246ms/step - loss: 0.0099 - val_loss: 0.1106\n",
      "Epoch 38/125\n",
      "1/1 [==============================] - 0s 228ms/step - loss: 0.0098 - val_loss: 0.1115\n",
      "Epoch 39/125\n",
      "1/1 [==============================] - 0s 271ms/step - loss: 0.0096 - val_loss: 0.1128\n",
      "Epoch 40/125\n",
      "1/1 [==============================] - 0s 136ms/step - loss: 0.0095 - val_loss: 0.1143\n",
      "Epoch 41/125\n",
      "1/1 [==============================] - 0s 133ms/step - loss: 0.0093 - val_loss: 0.1160\n",
      "Epoch 42/125\n",
      "1/1 [==============================] - 0s 232ms/step - loss: 0.0092 - val_loss: 0.1179\n",
      "Epoch 43/125\n",
      "1/1 [==============================] - 0s 388ms/step - loss: 0.0090 - val_loss: 0.1199\n",
      "Epoch 44/125\n",
      "1/1 [==============================] - 0s 269ms/step - loss: 0.0089 - val_loss: 0.1220\n",
      "Epoch 45/125\n",
      "1/1 [==============================] - 0s 247ms/step - loss: 0.0087 - val_loss: 0.1240\n",
      "Epoch 46/125\n",
      "1/1 [==============================] - 0s 265ms/step - loss: 0.0086 - val_loss: 0.1260\n",
      "Epoch 47/125\n",
      "1/1 [==============================] - 0s 192ms/step - loss: 0.0086 - val_loss: 0.1278\n",
      "Epoch 48/125\n",
      "1/1 [==============================] - 0s 177ms/step - loss: 0.0085 - val_loss: 0.1296\n",
      "Epoch 49/125\n",
      "1/1 [==============================] - 0s 148ms/step - loss: 0.0084 - val_loss: 0.1311\n",
      "Epoch 50/125\n",
      "1/1 [==============================] - 0s 111ms/step - loss: 0.0084 - val_loss: 0.1325\n",
      "Epoch 51/125\n",
      "1/1 [==============================] - 0s 208ms/step - loss: 0.0084 - val_loss: 0.1336\n",
      "Epoch 52/125\n",
      "1/1 [==============================] - 0s 188ms/step - loss: 0.0084 - val_loss: 0.1345\n",
      "Epoch 53/125\n",
      "1/1 [==============================] - 0s 302ms/step - loss: 0.0083 - val_loss: 0.1351\n",
      "Epoch 54/125\n",
      "1/1 [==============================] - 0s 187ms/step - loss: 0.0083 - val_loss: 0.1355\n",
      "Epoch 55/125\n",
      "1/1 [==============================] - 0s 203ms/step - loss: 0.0083 - val_loss: 0.1357\n",
      "Epoch 56/125\n",
      "1/1 [==============================] - 0s 179ms/step - loss: 0.0083 - val_loss: 0.1355\n",
      "Epoch 57/125\n",
      "1/1 [==============================] - 0s 264ms/step - loss: 0.0083 - val_loss: 0.1352\n",
      "Epoch 58/125\n",
      "1/1 [==============================] - 0s 229ms/step - loss: 0.0083 - val_loss: 0.1346\n",
      "Epoch 59/125\n",
      "1/1 [==============================] - 0s 174ms/step - loss: 0.0083 - val_loss: 0.1337\n",
      "Epoch 60/125\n",
      "1/1 [==============================] - 0s 209ms/step - loss: 0.0083 - val_loss: 0.1327\n",
      "Epoch 61/125\n",
      "1/1 [==============================] - 0s 247ms/step - loss: 0.0082 - val_loss: 0.1315\n",
      "Epoch 62/125\n",
      "1/1 [==============================] - 0s 242ms/step - loss: 0.0082 - val_loss: 0.1301\n",
      "Epoch 63/125\n",
      "1/1 [==============================] - 0s 238ms/step - loss: 0.0082 - val_loss: 0.1286\n",
      "Epoch 64/125\n",
      "1/1 [==============================] - 0s 161ms/step - loss: 0.0081 - val_loss: 0.1270\n",
      "Epoch 65/125\n",
      "1/1 [==============================] - 0s 177ms/step - loss: 0.0081 - val_loss: 0.1253\n",
      "Epoch 66/125\n",
      "1/1 [==============================] - 0s 172ms/step - loss: 0.0081 - val_loss: 0.1235\n",
      "Epoch 67/125\n",
      "1/1 [==============================] - 0s 273ms/step - loss: 0.0080 - val_loss: 0.1217\n",
      "Epoch 68/125\n",
      "1/1 [==============================] - 0s 245ms/step - loss: 0.0080 - val_loss: 0.1199\n",
      "Epoch 69/125\n",
      "1/1 [==============================] - 0s 196ms/step - loss: 0.0080 - val_loss: 0.1180\n",
      "Epoch 70/125\n",
      "1/1 [==============================] - 0s 174ms/step - loss: 0.0079 - val_loss: 0.1162\n",
      "Epoch 71/125\n",
      "1/1 [==============================] - 0s 245ms/step - loss: 0.0079 - val_loss: 0.1145\n",
      "Epoch 72/125\n",
      "1/1 [==============================] - 0s 173ms/step - loss: 0.0079 - val_loss: 0.1127\n",
      "Epoch 73/125\n",
      "1/1 [==============================] - 0s 139ms/step - loss: 0.0079 - val_loss: 0.1111\n",
      "Epoch 74/125\n",
      "1/1 [==============================] - 0s 119ms/step - loss: 0.0078 - val_loss: 0.1095\n",
      "Epoch 75/125\n",
      "1/1 [==============================] - 0s 171ms/step - loss: 0.0078 - val_loss: 0.1080\n",
      "Epoch 76/125\n",
      "1/1 [==============================] - 0s 146ms/step - loss: 0.0078 - val_loss: 0.1065\n",
      "Epoch 77/125\n",
      "1/1 [==============================] - 0s 198ms/step - loss: 0.0078 - val_loss: 0.1052\n",
      "Epoch 78/125\n",
      "1/1 [==============================] - 0s 194ms/step - loss: 0.0077 - val_loss: 0.1040\n",
      "Epoch 79/125\n",
      "1/1 [==============================] - 0s 127ms/step - loss: 0.0077 - val_loss: 0.1028\n",
      "Epoch 80/125\n",
      "1/1 [==============================] - 0s 163ms/step - loss: 0.0077 - val_loss: 0.1018\n",
      "Epoch 81/125\n",
      "1/1 [==============================] - 0s 318ms/step - loss: 0.0077 - val_loss: 0.1008\n",
      "Epoch 82/125\n",
      "1/1 [==============================] - 0s 248ms/step - loss: 0.0077 - val_loss: 0.0999\n",
      "Epoch 83/125\n",
      "1/1 [==============================] - 0s 200ms/step - loss: 0.0076 - val_loss: 0.0991\n",
      "Epoch 84/125\n",
      "1/1 [==============================] - 0s 252ms/step - loss: 0.0076 - val_loss: 0.0983\n",
      "Epoch 85/125\n",
      "1/1 [==============================] - 0s 142ms/step - loss: 0.0076 - val_loss: 0.0977\n",
      "Epoch 86/125\n",
      "1/1 [==============================] - 0s 206ms/step - loss: 0.0076 - val_loss: 0.0970\n",
      "Epoch 87/125\n",
      "1/1 [==============================] - 0s 121ms/step - loss: 0.0076 - val_loss: 0.0964\n",
      "Epoch 88/125\n",
      "1/1 [==============================] - 0s 127ms/step - loss: 0.0075 - val_loss: 0.0959\n",
      "Epoch 89/125\n",
      "1/1 [==============================] - 0s 223ms/step - loss: 0.0075 - val_loss: 0.0953\n",
      "Epoch 90/125\n",
      "1/1 [==============================] - 0s 115ms/step - loss: 0.0075 - val_loss: 0.0948\n",
      "Epoch 91/125\n",
      "1/1 [==============================] - 0s 146ms/step - loss: 0.0075 - val_loss: 0.0943\n",
      "Epoch 92/125\n",
      "1/1 [==============================] - 0s 240ms/step - loss: 0.0075 - val_loss: 0.0937\n",
      "Epoch 93/125\n",
      "1/1 [==============================] - 0s 256ms/step - loss: 0.0074 - val_loss: 0.0932\n",
      "Epoch 94/125\n",
      "1/1 [==============================] - 0s 278ms/step - loss: 0.0074 - val_loss: 0.0926\n",
      "Epoch 95/125\n",
      "1/1 [==============================] - 0s 232ms/step - loss: 0.0074 - val_loss: 0.0921\n",
      "Epoch 96/125\n",
      "1/1 [==============================] - 0s 234ms/step - loss: 0.0074 - val_loss: 0.0915\n",
      "Epoch 97/125\n",
      "1/1 [==============================] - 0s 180ms/step - loss: 0.0074 - val_loss: 0.0908\n",
      "Epoch 98/125\n",
      "1/1 [==============================] - 0s 166ms/step - loss: 0.0074 - val_loss: 0.0902\n",
      "Epoch 99/125\n",
      "1/1 [==============================] - 0s 226ms/step - loss: 0.0073 - val_loss: 0.0895\n",
      "Epoch 100/125\n",
      "1/1 [==============================] - 0s 186ms/step - loss: 0.0073 - val_loss: 0.0888\n",
      "Epoch 101/125\n",
      "1/1 [==============================] - 0s 150ms/step - loss: 0.0073 - val_loss: 0.0881\n",
      "Epoch 102/125\n",
      "1/1 [==============================] - 0s 125ms/step - loss: 0.0073 - val_loss: 0.0873\n",
      "Epoch 103/125\n",
      "1/1 [==============================] - 0s 101ms/step - loss: 0.0073 - val_loss: 0.0865\n",
      "Epoch 104/125\n",
      "1/1 [==============================] - 0s 209ms/step - loss: 0.0073 - val_loss: 0.0857\n",
      "Epoch 105/125\n",
      "1/1 [==============================] - 0s 186ms/step - loss: 0.0072 - val_loss: 0.0849\n",
      "Epoch 106/125\n",
      "1/1 [==============================] - 0s 156ms/step - loss: 0.0072 - val_loss: 0.0841\n",
      "Epoch 107/125\n",
      "1/1 [==============================] - 0s 139ms/step - loss: 0.0072 - val_loss: 0.0833\n",
      "Epoch 108/125\n",
      "1/1 [==============================] - 0s 144ms/step - loss: 0.0072 - val_loss: 0.0824\n",
      "Epoch 109/125\n",
      "1/1 [==============================] - 0s 168ms/step - loss: 0.0072 - val_loss: 0.0816\n",
      "Epoch 110/125\n",
      "1/1 [==============================] - 0s 152ms/step - loss: 0.0072 - val_loss: 0.0808\n",
      "Epoch 111/125\n",
      "1/1 [==============================] - 0s 165ms/step - loss: 0.0072 - val_loss: 0.0800\n",
      "Epoch 112/125\n",
      "1/1 [==============================] - 0s 155ms/step - loss: 0.0071 - val_loss: 0.0791\n",
      "Epoch 113/125\n",
      "1/1 [==============================] - 0s 151ms/step - loss: 0.0071 - val_loss: 0.0784\n",
      "Epoch 114/125\n",
      "1/1 [==============================] - 0s 276ms/step - loss: 0.0071 - val_loss: 0.0776\n",
      "Epoch 115/125\n",
      "1/1 [==============================] - 0s 133ms/step - loss: 0.0071 - val_loss: 0.0768\n",
      "Epoch 116/125\n",
      "1/1 [==============================] - 0s 165ms/step - loss: 0.0071 - val_loss: 0.0761\n",
      "Epoch 117/125\n",
      "1/1 [==============================] - 0s 114ms/step - loss: 0.0071 - val_loss: 0.0754\n",
      "Epoch 118/125\n",
      "1/1 [==============================] - 0s 158ms/step - loss: 0.0071 - val_loss: 0.0747\n",
      "Epoch 119/125\n",
      "1/1 [==============================] - 0s 199ms/step - loss: 0.0071 - val_loss: 0.0740\n",
      "Epoch 120/125\n",
      "1/1 [==============================] - 0s 171ms/step - loss: 0.0070 - val_loss: 0.0734\n",
      "Epoch 121/125\n",
      "1/1 [==============================] - 0s 222ms/step - loss: 0.0070 - val_loss: 0.0727\n",
      "Epoch 122/125\n",
      "1/1 [==============================] - 0s 168ms/step - loss: 0.0070 - val_loss: 0.0721\n",
      "Epoch 123/125\n",
      "1/1 [==============================] - 0s 182ms/step - loss: 0.0070 - val_loss: 0.0716\n",
      "Epoch 124/125\n",
      "1/1 [==============================] - 0s 190ms/step - loss: 0.0070 - val_loss: 0.0710\n",
      "Epoch 125/125\n",
      "1/1 [==============================] - 0s 174ms/step - loss: 0.0070 - val_loss: 0.0704\n"
     ]
    }
   ],
   "source": [
    "model = Sequential()\n",
    "model.add(Bidirectional(LSTM(lstm_layers, input_shape=(look_back,num_of_features))))\n",
    "model.add(Dense(5))\n",
    "model.add(Dense(1))\n",
    "model.compile(loss='mean_squared_error', optimizer='adam')\n",
    "history= model.fit(trainX, trainY,validation_split=0.30, epochs=epochs,shuffle=False)"
   ]
  },
  {
   "cell_type": "code",
   "execution_count": 241,
   "metadata": {},
   "outputs": [
    {
     "data": {
      "image/png": "[encoded data removed]",
      "text/plain": [
       "<Figure size 432x288 with 1 Axes>"
      ]
     },
     "metadata": {
      "needs_background": "light"
     },
     "output_type": "display_data"
    }
   ],
   "source": [
    "# Plot training\n",
    "plt.plot(history.history['loss'])\n",
    "plt.plot(history.history['val_loss'])\n",
    "plt.title('Model loss')\n",
    "plt.ylabel('Loss')\n",
    "plt.xlabel('Epoch')\n",
    "plt.legend(['training', 'validation'], loc='upper right')\n",
    "plt.show()"
   ]
  },
  {
   "cell_type": "code",
   "execution_count": 242,
   "metadata": {},
   "outputs": [],
   "source": [
    "trainPredict = model.predict(trainX) # Trainset predictions\n",
    "testPredict = model.predict(testX) # Test_set predictions\n",
    "\n",
    "#scale back\n",
    "trainPredict = scaler.inverse_transform(trainPredict)\n",
    "testPredict = scaler.inverse_transform(testPredict)\n",
    "\n",
    "trainY_back = scaler.inverse_transform(trainY.reshape(-1,1))\n",
    "testY_back = scaler.inverse_transform(testY.reshape(-1,1))\n",
    "\n",
    "\n",
    "# calculate root mean squared error\n",
    "trainScore_RMSE = math.sqrt(mean_squared_error(trainY_back, trainPredict))\n",
    "testScore_RMSE = math.sqrt(mean_squared_error(testY_back, testPredict))\n",
    "\n",
    "\n",
    "# calculate absolute mean error\n",
    "trainScore_MAE = np.sum(np.absolute(trainY_back - trainPredict))/len(trainY)\n",
    "testScore_MAE = np.sum(np.absolute(testY_back - testPredict))/len(testY)\n"
   ]
  },
  {
   "cell_type": "code",
   "execution_count": 243,
   "metadata": {},
   "outputs": [
    {
     "name": "stdout",
     "output_type": "stream",
     "text": [
      "0.42362595946739007 0.30237215497277\n"
     ]
    }
   ],
   "source": [
    "print(trainScore_RMSE, trainScore_MAE)"
   ]
  },
  {
   "cell_type": "code",
   "execution_count": 244,
   "metadata": {},
   "outputs": [
    {
     "name": "stdout",
     "output_type": "stream",
     "text": [
      "0.5269703880051597 0.4699025077819825\n"
     ]
    }
   ],
   "source": [
    "print(testScore_RMSE, testScore_MAE)"
   ]
  },
  {
   "cell_type": "code",
   "execution_count": 245,
   "metadata": {},
   "outputs": [
    {
     "data": {
      "text/plain": [
       "Text(0.5, 1.0, 'Steem Price Prediction')"
      ]
     },
     "execution_count": 245,
     "metadata": {},
     "output_type": "execute_result"
    },
    {
     "data": {
      "image/png": "[encoded data removed]",
      "text/plain": [
       "<Figure size 1080x504 with 1 Axes>"
      ]
     },
     "metadata": {
      "needs_background": "light"
     },
     "output_type": "display_data"
    }
   ],
   "source": [
    "# shift train predictions for plotting\n",
    "\n",
    "trainPredictPlot = np.empty_like(dataset)\n",
    "trainPredictPlot[:, :] = np.nan\n",
    "trainPredictPlot[look_back:len(trainPredict)+look_back] = trainPredict\n",
    "\n",
    "\n",
    "# shift test predictions for plotting\n",
    "testPredictPlot = np.empty_like(dataset)\n",
    "testPredictPlot[:, :] = np.nan\n",
    "testPredictPlot[len(trainPredict)+(look_back*2)+1:len(dataset)-1] = testPredict\n",
    "\n",
    "\n",
    "# contruct pandas dataframe for plotting\n",
    "time_df = pd.DataFrame(LSTM_data.index)\n",
    "time_df['Actual'] = scaler.inverse_transform(dataset)\n",
    "df1 = pd.DataFrame(trainPredictPlot,columns=['Train'])\n",
    "df2 = pd.DataFrame(testPredictPlot,columns=['Test'])\n",
    "time_df2 = pd.concat([time_df, df1, df2], axis=1, sort=False)\n",
    "time_df2.set_index('timestamp',inplace=True)\n",
    "\n",
    "# plot the output\n",
    "fig, ax = plt.subplots(figsize=(15,7))\n",
    "time_df2.plot(ax=ax,rot=90,alpha=0.7)\n",
    "plt.xlabel('Timestamp')\n",
    "plt.ylabel('Steem PRICE')\n",
    "plt.title('Steem Price Prediction')\n"
   ]
  },
  {
   "cell_type": "code",
   "execution_count": 247,
   "metadata": {},
   "outputs": [
    {
     "name": "stdout",
     "output_type": "stream",
     "text": [
      "0.5269703880051597 0.4699025077819825\n"
     ]
    }
   ],
   "source": [
    "print(testScore_RMSE, testScore_MAE)"
   ]
  },
  {
   "cell_type": "code",
   "execution_count": 249,
   "metadata": {},
   "outputs": [
    {
     "data": {
      "text/html": [
       "<div>\n",
       "<style scoped>\n",
       "    .dataframe tbody tr th:only-of-type {\n",
       "        vertical-align: middle;\n",
       "    }\n",
       "\n",
       "    .dataframe tbody tr th {\n",
       "        vertical-align: top;\n",
       "    }\n",
       "\n",
       "    .dataframe thead th {\n",
       "        text-align: right;\n",
       "    }\n",
       "</style>\n",
       "<table border=\"1\" class=\"dataframe\">\n",
       "  <thead>\n",
       "    <tr style=\"text-align: right;\">\n",
       "      <th></th>\n",
       "      <th>LSTM_close</th>\n",
       "      <th>LSTM_multivariate</th>\n",
       "    </tr>\n",
       "  </thead>\n",
       "  <tbody>\n",
       "    <tr>\n",
       "      <th>testScore_RMSE</th>\n",
       "      <td>0.5269703880051597</td>\n",
       "      <td>0.3181908681057473</td>\n",
       "    </tr>\n",
       "    <tr>\n",
       "      <th>testScore_MAE</th>\n",
       "      <td>0.4699025077819825</td>\n",
       "      <td>0.30552508471455464</td>\n",
       "    </tr>\n",
       "    <tr>\n",
       "      <th>trainScore_RMSE</th>\n",
       "      <td>0.42362595946739007</td>\n",
       "      <td>0.31936864363159273</td>\n",
       "    </tr>\n",
       "    <tr>\n",
       "      <th>trainScore_MAE</th>\n",
       "      <td>0.30237215497277</td>\n",
       "      <td>0.24044375061630435</td>\n",
       "    </tr>\n",
       "  </tbody>\n",
       "</table>\n",
       "</div>"
      ],
      "text/plain": [
       "                          LSTM_close    LSTM_multivariate\n",
       "testScore_RMSE    0.5269703880051597  0.3181908681057473 \n",
       "testScore_MAE     0.4699025077819825  0.30552508471455464\n",
       "trainScore_RMSE  0.42362595946739007  0.31936864363159273\n",
       "trainScore_MAE      0.30237215497277  0.24044375061630435"
      ]
     },
     "execution_count": 249,
     "metadata": {},
     "output_type": "execute_result"
    }
   ],
   "source": [
    "data = {'LSTM_close':  ['0.5269703880051597', '0.4699025077819825',\"0.42362595946739007\",\"0.30237215497277\"],\n",
    "        'LSTM_multivariate': ['0.3181908681057473 ', '0.30552508471455464',\"0.31936864363159273\",\"0.24044375061630435\"]}\n",
    "\n",
    "pd.DataFrame(data, index=['testScore_RMSE','testScore_MAE','trainScore_RMSE','trainScore_MAE'])"
   ]
  },
  {
   "cell_type": "code",
   "execution_count": null,
   "metadata": {},
   "outputs": [],
   "source": []
  }
 ],
 "metadata": {
  "kernelspec": {
   "display_name": "Python [conda env:py38]",
   "language": "python",
   "name": "conda-env-py38-py"
  },
  "language_info": {
   "codemirror_mode": {
    "name": "ipython",
    "version": 3
   },
   "file_extension": ".py",
   "mimetype": "text/x-python",
   "name": "python",
   "nbconvert_exporter": "python",
   "pygments_lexer": "ipython3",
   "version": "3.8.13"
  }
 },
 "nbformat": 4,
 "nbformat_minor": 4
}
